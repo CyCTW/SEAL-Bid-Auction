{
 "cells": [
  {
   "cell_type": "code",
   "execution_count": 68,
   "id": "400bdf7f-6d7f-415c-8be2-0c8c6d1580a7",
   "metadata": {},
   "outputs": [],
   "source": [
    "def init_schnorr_group():\n",
    "    def generate_q_r_p():\n",
    "        q = random_prime(2^128)\n",
    "        r = randrange(1, 2^128)\n",
    "        p = q * r + 1\n",
    "        return q, r, p\n",
    "\n",
    "    q, r, p = generate_q_r_p()\n",
    "    while not is_prime(p) or not is_prime(q):\n",
    "        q, r, p = generate_q_r_p()\n",
    "\n",
    "    h = randrange(2, p)\n",
    "    while pow(h, r, p) == 1:\n",
    "        h = rangdrange(2, p)\n",
    "        \n",
    "    g = pow(h, r, p)\n",
    "\n",
    "    return q, r, p, h, g\n",
    "\n",
    "q, r, p, h, g = init_schnorr_group()"
   ]
  },
  {
   "cell_type": "code",
   "execution_count": 100,
   "id": "159b87c6-a0fa-418c-b099-afc26e0f27d8",
   "metadata": {},
   "outputs": [],
   "source": [
    "Zp = Zmod(p)"
   ]
  },
  {
   "cell_type": "code",
   "execution_count": 2,
   "id": "d28872ac-3a3c-4e63-8b13-3ec149a9c2d8",
   "metadata": {},
   "outputs": [],
   "source": [
    "n = 5"
   ]
  },
  {
   "cell_type": "code",
   "execution_count": 90,
   "id": "810b0273-bd54-4f08-ba43-a068bd13b83d",
   "metadata": {},
   "outputs": [
    {
     "data": {
      "text/plain": [
       "[21296988558009105638502717136492521978607342384692249963783584718710245084931,\n",
       " 4416564048965410742006490289686126734022579813997510388150858426489349624867,\n",
       " 16792926385001875752054155814104473914790793073873050575965555425097263118403,\n",
       " 13021957158055897947850400382473097995565830657168718408321399651115993270693,\n",
       " 13173272772114276713180952816449466859670433481875391383470202066012398254658]"
      ]
     },
     "execution_count": 90,
     "metadata": {},
     "output_type": "execute_result"
    }
   ],
   "source": [
    "xi = [g^randrange(1, p) for _ in range(n)] # private keys\n",
    "xi"
   ]
  },
  {
   "cell_type": "code",
   "execution_count": 109,
   "id": "5ce3468c-ad88-4854-9f66-d193dd9c148f",
   "metadata": {},
   "outputs": [
    {
     "data": {
      "text/plain": [
       "[42434020847444336737593722469124516451010854004539526981151425433343648043924,\n",
       " 5620440498155576851098404322636894166282085184953146388274166545058630569318,\n",
       " 38001327614205123339852412596540652019258763589460804360766119465930930650141,\n",
       " 1777526429944662284141050804357285820776706963180348372839115539241347590575,\n",
       " 17735951249150418481371778266943848852409876991676523818233629700259061090742]"
      ]
     },
     "execution_count": 109,
     "metadata": {},
     "output_type": "execute_result"
    }
   ],
   "source": [
    "g_xi = [g^i for i in xi] # public keys\n",
    "g_xi"
   ]
  },
  {
   "cell_type": "code",
   "execution_count": 110,
   "id": "7030cabf-8473-46c3-a14c-da35f44b5272",
   "metadata": {},
   "outputs": [
    {
     "data": {
      "text/plain": [
       "[8883152654471133102648729364554538290964430138290309703672761832888234812150,\n",
       " 19133564171655446188558369455260845607805288796745213752758925692317310769785,\n",
       " 54982811677291642312390186701237612085547255106681232657881371573189591711544,\n",
       " 42445253287508860866619415105524856871090546123221207480459888537919130815564,\n",
       " 34207864772205793213571144463792890867978611967795782047373592776308810150195]"
      ]
     },
     "execution_count": 110,
     "metadata": {},
     "output_type": "execute_result"
    }
   ],
   "source": [
    "# round 1\n",
    "g_yi = []\n",
    "for i in range(n):\n",
    "    g_j_lt_i = Zp(1)\n",
    "    g_j_gt_i = Zp(1)\n",
    "    \n",
    "    for j in range(n):\n",
    "        if j < i:\n",
    "            g_j_lt_i *= g_xi[j]\n",
    "        elif j > i:\n",
    "            g_j_gt_i *= g_xi[j]\n",
    "\n",
    "    g_yi.append(g_j_lt_i * g_j_gt_i^(-1))\n",
    "\n",
    "g_yi"
   ]
  },
  {
   "cell_type": "code",
   "execution_count": 113,
   "id": "0ca3a1dd-1938-423d-89f3-db5acd27d6c3",
   "metadata": {},
   "outputs": [
    {
     "data": {
      "text/plain": [
       "[17217854440756317393536683454875496158715807954506811749119093416158898675427,\n",
       " 51213049690026449366409511631678176934325039453705529797471610161061677867005,\n",
       " 51997212842361084319144771475863567506795548854596190836318201845073025124111,\n",
       " 2622590803338133309154625673183238730176895367222229858961902231765723455050,\n",
       " 36046155682746877313541685617039618346548597960495727745637156476998605332714]"
      ]
     },
     "execution_count": 113,
     "metadata": {},
     "output_type": "execute_result"
    }
   ],
   "source": [
    "# round 2, all no veto\n",
    "g_ciyi = []\n",
    "for i in range(n):\n",
    "    g_ciyi.append(g_yi[i]^xi[i])\n",
    "    \n",
    "g_ciyi"
   ]
  },
  {
   "cell_type": "code",
   "execution_count": 114,
   "id": "8aa8390b-8875-4ca6-b1d1-c678a8bc5b90",
   "metadata": {},
   "outputs": [
    {
     "data": {
      "text/plain": [
       "1"
      ]
     },
     "execution_count": 114,
     "metadata": {},
     "output_type": "execute_result"
    }
   ],
   "source": [
    "t = Zp(1)\n",
    "for i in range(n):\n",
    "    t *= g_ciyi[i]\n",
    "t"
   ]
  }
 ],
 "metadata": {
  "kernelspec": {
   "display_name": "SageMath 9.2",
   "language": "sage",
   "name": "sagemath"
  },
  "language_info": {
   "codemirror_mode": {
    "name": "ipython",
    "version": 3
   },
   "file_extension": ".py",
   "mimetype": "text/x-python",
   "name": "python",
   "nbconvert_exporter": "python",
   "pygments_lexer": "ipython3",
   "version": "3.9.7"
  }
 },
 "nbformat": 4,
 "nbformat_minor": 5
}
