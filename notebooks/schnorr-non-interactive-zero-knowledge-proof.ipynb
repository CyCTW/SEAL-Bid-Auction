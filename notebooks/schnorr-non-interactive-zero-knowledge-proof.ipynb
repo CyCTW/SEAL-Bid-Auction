{
 "cells": [
  {
   "cell_type": "code",
   "execution_count": 2,
   "id": "2557df78-b9b9-436f-ae75-b5e79e11a476",
   "metadata": {},
   "outputs": [],
   "source": [
    "import hashlib"
   ]
  },
  {
   "cell_type": "code",
   "execution_count": 42,
   "id": "1206975e-f547-4ee0-af03-234ba2bd5358",
   "metadata": {},
   "outputs": [],
   "source": [
    "def init_schnorr_group():\n",
    "    def generate_q_r_p():\n",
    "        q = random_prime(2^128)\n",
    "        r = randrange(1, 2^128)\n",
    "        p = q * r + 1\n",
    "        return q, r, p\n",
    "\n",
    "    q, r, p = generate_q_r_p()\n",
    "    while not is_prime(p) or not is_prime(q):\n",
    "        q, r, p = generate_q_r_p()\n",
    "\n",
    "    h = randrange(2, p)\n",
    "    while pow(h, r, p) == 1:\n",
    "        h = rangdrange(2, p)\n",
    "        \n",
    "    g = pow(h, r, p)\n",
    "\n",
    "    return q, r, p, h, g\n",
    "\n",
    "q, r, p, h, g = init_schnorr_group()"
   ]
  },
  {
   "cell_type": "code",
   "execution_count": 43,
   "id": "2530805a-dc8b-4cbc-85a6-8e6a82e17863",
   "metadata": {},
   "outputs": [
    {
     "data": {
      "text/plain": [
       "(123752630202913135459545835934729927441,\n",
       " 11156304344981048748979880884141793054323674450748624382458597093709564454886)"
      ]
     },
     "execution_count": 43,
     "metadata": {},
     "output_type": "execute_result"
    }
   ],
   "source": [
    "# alice publish public key\n",
    "uid = 1\n",
    "a = randrange(0, q-1) # private key\n",
    "A = pow(g, a, p) # public key\n",
    "a, A"
   ]
  },
  {
   "cell_type": "code",
   "execution_count": 44,
   "id": "57581586-4cee-4d0f-8416-e973d6b5c324",
   "metadata": {},
   "outputs": [
    {
     "data": {
      "text/plain": [
       "(75606721109858071516740282894513737551,\n",
       " 2490189004446294373538827805925160747211753561211102900037067291078014536930)"
      ]
     },
     "execution_count": 44,
     "metadata": {},
     "output_type": "execute_result"
    }
   ],
   "source": [
    "# pass 1, Alice side\n",
    "v = randrange(0, q-1)\n",
    "V = pow(g, v, p) # send to Bob\n",
    "v, V"
   ]
  },
  {
   "cell_type": "code",
   "execution_count": 45,
   "id": "37a693fb-9a36-4644-b348-cc94e2946cf8",
   "metadata": {},
   "outputs": [
    {
     "data": {
      "text/plain": [
       "'88a2c936c40a1e893a909ac009bd7d58de76d7732a168fbb62c452d3fa42b075b2e82d2da0b189c40680c7333e8c4997973ae69e3d69593894448917043ef3d5'"
      ]
     },
     "execution_count": 45,
     "metadata": {},
     "output_type": "execute_result"
    }
   ],
   "source": [
    "# pass 2, Bob side\n",
    "c = f\"{g}{V}{A}{uid}\".encode()\n",
    "c = hashlib.sha512(c).hexdigest()\n",
    "c"
   ]
  },
  {
   "cell_type": "code",
   "execution_count": 46,
   "id": "65f4e49a-f3b1-43a7-b983-9e66cb06d70e",
   "metadata": {},
   "outputs": [
    {
     "data": {
      "text/plain": [
       "186436264149482897666494709263024070289"
      ]
     },
     "execution_count": 46,
     "metadata": {},
     "output_type": "execute_result"
    }
   ],
   "source": [
    "# pass 3, Alice side\n",
    "c = int(c, 16)\n",
    "r2 = (v - a * c) % q\n",
    "r2"
   ]
  },
  {
   "cell_type": "code",
   "execution_count": 47,
   "id": "949f4c35-d4af-47ee-b5c3-7d82fbfb734d",
   "metadata": {},
   "outputs": [
    {
     "data": {
      "text/plain": [
       "(2490189004446294373538827805925160747211753561211102900037067291078014536930,\n",
       " 2490189004446294373538827805925160747211753561211102900037067291078014536930)"
      ]
     },
     "execution_count": 47,
     "metadata": {},
     "output_type": "execute_result"
    }
   ],
   "source": [
    "# Bob side, verify\n",
    "V, (pow(g,r2,p) * pow(A,c,p))%p"
   ]
  }
 ],
 "metadata": {
  "kernelspec": {
   "display_name": "SageMath 9.2",
   "language": "sage",
   "name": "sagemath"
  },
  "language_info": {
   "codemirror_mode": {
    "name": "ipython",
    "version": 3
   },
   "file_extension": ".py",
   "mimetype": "text/x-python",
   "name": "sage",
   "nbconvert_exporter": "python",
   "pygments_lexer": "ipython3",
   "version": "3.9.7"
  }
 },
 "nbformat": 4,
 "nbformat_minor": 5
}
