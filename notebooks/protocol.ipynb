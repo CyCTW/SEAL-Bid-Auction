{
 "cells": [
  {
   "cell_type": "code",
   "execution_count": 15,
   "id": "b6002615-fe63-4899-95aa-d8aac023322f",
   "metadata": {},
   "outputs": [],
   "source": [
    "import hashlib"
   ]
  },
  {
   "cell_type": "code",
   "execution_count": 16,
   "id": "831a87db-7f97-4ee7-b860-18c022dac16d",
   "metadata": {},
   "outputs": [],
   "source": [
    "def init_schnorr_group():\n",
    "    def generate_q_r_p():\n",
    "        q = random_prime(2^128)\n",
    "        r = randrange(1, 2^128)\n",
    "        p = q * r + 1\n",
    "        return q, r, p\n",
    "\n",
    "    q, r, p = generate_q_r_p()\n",
    "    while not is_prime(p) or not is_prime(q):\n",
    "        q, r, p = generate_q_r_p()\n",
    "\n",
    "    h = randrange(2, p)\n",
    "    while pow(h, r, p) == 1:\n",
    "        h = rangdrange(2, p)\n",
    "        \n",
    "    g = pow(h, r, p)\n",
    "\n",
    "    return q, r, p, h, g"
   ]
  },
  {
   "cell_type": "code",
   "execution_count": 17,
   "id": "839d5f73-a965-40f4-ac87-f2b30f10a06f",
   "metadata": {},
   "outputs": [
    {
     "data": {
      "text/plain": [
       "(100046075239591942434489303188176921637,\n",
       " 242424725939097071700735228314386621910,\n",
       " 24253642371240362049549125591238689522767925366065780820002063680879217266671,\n",
       " 23194359962280232696940270728863367210233245942733215658717754642643137352960,\n",
       " 2196910842516590547964977442169540993197785195830411487960553675044397505600)"
      ]
     },
     "execution_count": 17,
     "metadata": {},
     "output_type": "execute_result"
    }
   ],
   "source": [
    "q, r, p, h, g = init_schnorr_group()\n",
    "q, r, p, h, g"
   ]
  },
  {
   "cell_type": "code",
   "execution_count": 167,
   "id": "797f2118-9902-415c-ae39-d1a5a03a94fb",
   "metadata": {},
   "outputs": [],
   "source": [
    "c = 10\n",
    "n = 3"
   ]
  },
  {
   "cell_type": "code",
   "execution_count": 168,
   "id": "64a604ad-b745-416e-98e0-852f4ebebdc9",
   "metadata": {},
   "outputs": [],
   "source": [
    "class User:\n",
    "    def __init__(self, uid, c):\n",
    "        self.uid = uid\n",
    "        self.c = c\n",
    "        \n",
    "    def set_price(self, price):\n",
    "        self.price = price\n",
    "        \n",
    "        \"\"\"\n",
    "        price_bits[0]: LSB, price_bits[c]: MSB\n",
    "        price_bits[i] structure: {\n",
    "            \"bit\": int,\n",
    "            \"alpha\": int,\n",
    "            \"beta\": int,\n",
    "            \"x\": int,\n",
    "            \"r\": int,\n",
    "            \"d\": int,\n",
    "        }\n",
    "        \"\"\"\n",
    "        self.price_bits = tuple({\"bit\": int(b)} for b in reversed(format(price, f\"0{self.c}b\")))\n",
    "\n",
    "    def commit(self, bit_idx, alpha, beta):\n",
    "        self.price_bits[bit_idx]['alpha'] = alpha\n",
    "        self.price_bits[bit_idx]['beta'] = beta\n",
    "        \n",
    "    def round1(self, bit_idx, x, r):\n",
    "        self.price_bits[bit_idx]['x'] = x\n",
    "        self.price_bits[bit_idx]['r'] = r\n",
    "        \n",
    "    def round2_add_d(self, bit_idx, d):\n",
    "        self.price_bits[bit_idx]['d'] = d\n",
    "        \n",
    "    def get_price_bit(self, bit_idx):\n",
    "        return self.price_bits[bit_idx]['bit']\n",
    "    \n",
    "    def get_price_d(self, bit_idx):\n",
    "        return self.price_bits[bit_idx]['d']\n",
    "    \n",
    "    def get_x(self, bit_idx):\n",
    "        return self.price_bits[bit_idx]['x']\n",
    "    \n",
    "    def get_r(self, bit_idx):\n",
    "        return self.price_bits[bit_idx]['r']"
   ]
  },
  {
   "cell_type": "code",
   "execution_count": 169,
   "id": "9f454a4d-15d3-44e8-b86c-edf5705e1c60",
   "metadata": {},
   "outputs": [],
   "source": [
    "class BulletinBoard:\n",
    "    def __init__(self, c):\n",
    "        self.c = c\n",
    "        self.n = 0\n",
    "        \"\"\"\n",
    "        data: {\n",
    "            uid: (\n",
    "                bit_idx: {\n",
    "                    \"epsilon\": (c: int, A: int, B: int),\n",
    "                    \"X\": int,\n",
    "                    \"R\": int,\n",
    "                    \"b\": int,\n",
    "                }\n",
    "            )\n",
    "        }\n",
    "        \"\"\"\n",
    "        self.data = {}\n",
    "        \n",
    "    def join(self, uid):\n",
    "        self.data[uid] = tuple({} for _ in range(self.c))\n",
    "        self.n += 1\n",
    "        \n",
    "    def commit(self, uid, bit_idx, epsilon):\n",
    "        self.data[uid][bit_idx][\"epsilon\"] = epsilon\n",
    "        \n",
    "    def round1(self, uid, bit_idx, X, R):\n",
    "        self.data[uid][bit_idx][\"X\"] = X\n",
    "        self.data[uid][bit_idx][\"R\"] = R\n",
    "        \n",
    "    def round2(self, uid, bit_idx, b):\n",
    "        self.data[uid][bit_idx][\"b\"] = b\n",
    "        \n",
    "    def get_g_x_all(self, bit_idx):\n",
    "        g_x = {}\n",
    "        for uid, bits in self.data.items():\n",
    "            g_x[uid] = bits[bit_idx][\"X\"]\n",
    "        return g_x\n",
    "    \n",
    "    def get_b_all(self, bit_idx):\n",
    "        b = {}\n",
    "        for uid, bits in self.data.items():\n",
    "            b[uid] = bits[bit_idx][\"b\"]\n",
    "        return b"
   ]
  },
  {
   "cell_type": "code",
   "execution_count": 170,
   "id": "ba9c4bc9-4663-47ad-8e24-eb1dd5fcfdf4",
   "metadata": {},
   "outputs": [
    {
     "name": "stdout",
     "output_type": "stream",
     "text": [
      "0 627 ({'bit': 1}, {'bit': 1}, {'bit': 0}, {'bit': 0}, {'bit': 1}, {'bit': 1}, {'bit': 1}, {'bit': 0}, {'bit': 0}, {'bit': 1})\n",
      "1 417 ({'bit': 1}, {'bit': 0}, {'bit': 0}, {'bit': 0}, {'bit': 0}, {'bit': 1}, {'bit': 0}, {'bit': 1}, {'bit': 1}, {'bit': 0})\n",
      "2 561 ({'bit': 1}, {'bit': 0}, {'bit': 0}, {'bit': 0}, {'bit': 1}, {'bit': 1}, {'bit': 0}, {'bit': 0}, {'bit': 0}, {'bit': 1})\n"
     ]
    }
   ],
   "source": [
    "pub_board = BulletinBoard(c)\n",
    "users = {}\n",
    "\n",
    "for uid in range(n):\n",
    "    user = User(uid, c)\n",
    "    user.set_price(randrange(0, 2**c-1))\n",
    "    pub_board.join(uid)\n",
    "    users[uid] = user\n",
    "    print(user.uid, user.price, user.price_bits)"
   ]
  },
  {
   "cell_type": "code",
   "execution_count": 171,
   "id": "97af62a1-5269-4051-af63-ebad58d70e9d",
   "metadata": {},
   "outputs": [
    {
     "name": "stdout",
     "output_type": "stream",
     "text": [
      "commit uid 0 price: 627 to the bulletin board\n",
      "commit uid 1 price: 417 to the bulletin board\n",
      "commit uid 2 price: 561 to the bulletin board\n"
     ]
    }
   ],
   "source": [
    "def commit(user):\n",
    "    print(f\"commit uid {user.uid} price: {user.price} to the bulletin board\")\n",
    "\n",
    "    # iterate price bit array from LSB\n",
    "    for bit_idx, price_bit in enumerate(user.price_bits):\n",
    "        # generate alpha, beta\n",
    "        alpha = g^randrange(1, p)\n",
    "        beta = g^randrange(1, p)\n",
    "        user.commit(bit_idx, alpha, beta)\n",
    "        \n",
    "        # generate epsilon\n",
    "        epsilon = gen_epsilon(alpha, beta, price_bit['bit'])\n",
    "        \n",
    "        # push to bulletin board\n",
    "        pub_board.commit(uid, bit_idx, epsilon)\n",
    "\n",
    "def gen_epsilon(alpha, beta, price_bit):\n",
    "    return (g^(alpha*beta + price_bit), g^alpha, g^beta)\n",
    "\n",
    "for uid, u in users.items():\n",
    "    commit(u)\n",
    "\n",
    "# TODO: NIZK proof of well formedness"
   ]
  },
  {
   "cell_type": "code",
   "execution_count": 173,
   "id": "778db7cd-4e12-40de-89ac-0e43efbe98f8",
   "metadata": {},
   "outputs": [
    {
     "name": "stdout",
     "output_type": "stream",
     "text": [
      "9 1\n",
      "8 0\n",
      "7 0\n",
      "6 1\n",
      "5 1\n",
      "4 1\n",
      "3 0\n",
      "2 0\n",
      "1 1\n",
      "0 1\n"
     ]
    }
   ],
   "source": [
    "junction_idx = None\n",
    "\n",
    "def round1(user, bit_idx):\n",
    "    # generate x, r\n",
    "    x = g^randrange(1, p)\n",
    "    r = g^randrange(1, p)\n",
    "    user.round1(bit_idx, x, r)\n",
    "    \n",
    "    # publish public key\n",
    "    pub_board.round1(uid, bit_idx, g^x, g^r)\n",
    "    \n",
    "    # TODO: publish NIZK proofs of knowledge of x = log_g^X and r = log_g^Y\n",
    "\n",
    "\"\"\"\n",
    "g_x: {\n",
    "    uid: int\n",
    "}\n",
    "\"\"\"\n",
    "def round2_calc_g_y(g_x_all: dict, uid: int):\n",
    "    g_x_lt_uid = Zmod(p)(1)\n",
    "    g_x_gt_uid = Zmod(p)(1)\n",
    "\n",
    "    for i, g_xi in g_x_all.items():\n",
    "        if i < uid:\n",
    "            g_x_lt_uid *= g_xi\n",
    "        elif i > uid:\n",
    "            g_x_gt_uid *= g_xi\n",
    "\n",
    "    return g_x_lt_uid * g_x_gt_uid^(-1)\n",
    "\n",
    "def round2(user: User, bit_idx):\n",
    "    price_bit = user.get_price_bit(bit_idx)\n",
    "    x, r = user.get_x(bit_idx), user.get_r(bit_idx)\n",
    "    \n",
    "    # store d\n",
    "    if junction_idx is None:\n",
    "        price_d = price_bit\n",
    "        user.round2_add_d(bit_idx, price_d)\n",
    "    else:\n",
    "        price_d = user.get_price_d(junction_idx) & price_bit\n",
    "        user.round2_add_d(bit_idx, price_d)\n",
    "    \n",
    "    # generate cryptogram\n",
    "    if price_d == 0: # 0-cryptogram\n",
    "        g_x_all = pub_board.get_g_x_all(bit_idx)\n",
    "        g_y = round2_calc_g_y(g_x_all, user.uid)\n",
    "        b = g_y ^ x\n",
    "    elif price_d == 1: # 1-cryptogram\n",
    "        b = g ^ (x * r)\n",
    "        \n",
    "    pub_board.round2(uid, bit_idx, b)\n",
    "\n",
    "\n",
    "for bit_idx in reversed(range(c)):\n",
    "    for uid, u in users.items():\n",
    "        round1(u, bit_idx)\n",
    "\n",
    "    for uid, u in users.items():\n",
    "        round2(u, bit_idx)\n",
    "  \n",
    "    # verify\n",
    "    b_all = pub_board.get_b_all(bit_idx)\n",
    "    \n",
    "    tmp = Zmod(p)(1)\n",
    "    for uid, b in b_all.items():\n",
    "        tmp *= b\n",
    "    T = 1 if tmp != 1 else 0\n",
    "        \n",
    "    if T == 1: # => update junction idx\n",
    "        junction_idx = bit_idx\n",
    "        \n",
    "    print(bit_idx, T)"
   ]
  }
 ],
 "metadata": {
  "kernelspec": {
   "display_name": "SageMath 9.2",
   "language": "sage",
   "name": "sagemath"
  },
  "language_info": {
   "codemirror_mode": {
    "name": "ipython",
    "version": 3
   },
   "file_extension": ".py",
   "mimetype": "text/x-python",
   "name": "python",
   "nbconvert_exporter": "python",
   "pygments_lexer": "ipython3",
   "version": "3.9.7"
  }
 },
 "nbformat": 4,
 "nbformat_minor": 5
}
